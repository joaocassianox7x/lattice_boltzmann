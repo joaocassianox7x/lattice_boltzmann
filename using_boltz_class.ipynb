{
 "cells": [
  {
   "cell_type": "code",
   "execution_count": 18,
   "id": "7713537b",
   "metadata": {},
   "outputs": [],
   "source": [
    "import numpy as np\n",
    "import tqdm\n",
    "import matplotlib.pyplot as plt\n",
    "import cv2\n",
    "import numba"
   ]
  },
  {
   "cell_type": "code",
   "execution_count": 78,
   "id": "177e730a",
   "metadata": {
    "scrolled": true
   },
   "outputs": [
    {
     "data": {
      "text/plain": [
       "<matplotlib.image.AxesImage at 0x7fc7f5dfdf98>"
      ]
     },
     "execution_count": 78,
     "metadata": {},
     "output_type": "execute_result"
    },
    {
     "data": {
      "image/png": "[encoded data removed]",
      "text/plain": [
       "<Figure size 1440x864 with 1 Axes>"
      ]
     },
     "metadata": {
      "needs_background": "light"
     },
     "output_type": "display_data"
    }
   ],
   "source": [
    "carro = cv2.cvtColor(cv2.imread('carro.png'),cv2.COLOR_BGR2GRAY)\n",
    "zeros = np.zeros((227,500))\n",
    "carro = np.concatenate((zeros,carro,zeros),axis=1)\n",
    "carro = carro*(carro<100)\n",
    "carro = cv2.resize(carro,(0,0),fx=0.25,fy=0.25)\n",
    "cylinder = carro>0\n",
    "\n",
    "plt.figure(figsize=(20,12))\n",
    "plt.imshow(carro)"
   ]
  },
  {
   "cell_type": "code",
   "execution_count": 206,
   "id": "1f4829d3",
   "metadata": {},
   "outputs": [
    {
     "name": "stderr",
     "output_type": "stream",
     "text": [
      "100%|██████████| 250/250 [00:02<00:00, 115.53it/s]\n"
     ]
    }
   ],
   "source": [
    "Nx          = np.shape(cylinder)[1]    # resolution x-dir\n",
    "Ny          = np.shape(cylinder)[0]    # resolution y-dir\n",
    "rho0        = 100    # average density\n",
    "tau         = 1    # collision timescale\n",
    "Nt          = 250   # number of timesteps\n",
    "\n",
    "# Lattice speeds / weights\n",
    "NL = 9\n",
    "idxs = np.arange(NL)\n",
    "cxs = np.array([0, 0, 1, 1, 1, 0,-1,-1,-1])\n",
    "cys = np.array([0, 1, 1, 0,-1,-1,-1, 0, 1])\n",
    "weights = np.array([4/9,1/9,1/36,1/9,1/36,1/9,1/36,1/9,1/36]) # sums to 1\n",
    "X, Y = np.meshgrid(range(Nx), range(Ny))\n",
    "\n",
    "# Initial Conditions - flow to the right with some perturbations\n",
    "F = np.ones((Ny,Nx,NL)) + 0.01*np.random.randn(Ny,Nx,NL)\n",
    "F[:,:,3] += 2 \n",
    "rho = np.sum(F,2)\n",
    "for i in idxs:\n",
    "    F[:,:,i] *= rho0 / rho\n",
    "\n",
    "# Cylinder boundary\n",
    "\n",
    "\n",
    "frame = []\n",
    "\n",
    "for it in tqdm.tqdm(range(Nt)):\n",
    "    frame.append(F[:,:,0])\n",
    "    for i, cx, cy in zip(idxs, cxs, cys):\n",
    "        F[:,:,i] = np.roll(F[:,:,i], cx, axis=1)\n",
    "        F[:,:,i] = np.roll(F[:,:,i], cy, axis=0)\n",
    "  \n",
    "    bndryF = F[cylinder,:]\n",
    "    bndryF = bndryF[:,[0,5,6,7,8,1,2,3,4]]\n",
    "  \n",
    "    rho = np.sum(F,2)\n",
    "    ux  = np.sum(F*cxs,2) / rho\n",
    "    uy  = np.sum(F*cys,2) / rho\n",
    "    \n",
    "    Feq = np.zeros(F.shape)\n",
    "    for i, cx, cy, w in zip(idxs, cxs, cys, weights):\n",
    "        Feq[:,:,i] = rho*w* (1 + 3*(cx*ux+cy*uy) + 9*(cx*ux+cy*uy)**2/2 - 3*(ux**2+uy**2)/2)\n",
    "  \n",
    "    F += -(1.0/tau) * (F - Feq)\n",
    "\n",
    "    F[cylinder,:] = bndryF"
   ]
  },
  {
   "cell_type": "code",
   "execution_count": 209,
   "id": "65d872e9",
   "metadata": {},
   "outputs": [
    {
     "data": {
      "text/plain": [
       "array([[95.90482761, 95.74753533, 95.57867432, ..., 96.37916623,\n",
       "        96.22190306, 96.07170217],\n",
       "       [95.9238932 , 95.76635694, 95.59649763, ..., 96.39815009,\n",
       "        96.24108522, 96.09122791],\n",
       "       [95.93854956, 95.78165686, 95.61187593, ..., 96.4103083 ,\n",
       "        96.2542126 , 96.1054177 ],\n",
       "       ...,\n",
       "       [95.82583452, 95.67455035, 95.5148726 , ..., 96.28521624,\n",
       "        96.13236095, 95.98572132],\n",
       "       [95.85542724, 95.70126391, 95.53751173, ..., 96.32235028,\n",
       "        96.16717986, 96.01857565],\n",
       "       [95.8820313 , 95.72585987, 95.55902845, ..., 96.35389421,\n",
       "        96.19728011, 96.04750568]])"
      ]
     },
     "execution_count": 209,
     "metadata": {},
     "output_type": "execute_result"
    }
   ],
   "source": [
    "rho"
   ]
  },
  {
   "cell_type": "code",
   "execution_count": 198,
   "id": "14627b3f",
   "metadata": {},
   "outputs": [
    {
     "data": {
      "image/png": "[encoded data removed]",
      "text/plain": [
       "<Figure size 432x288 with 1 Axes>"
      ]
     },
     "metadata": {
      "needs_background": "light"
     },
     "output_type": "display_data"
    }
   ],
   "source": [
    "import matplotlib.pyplot as plt\n",
    "import matplotlib.cm as cm\n",
    "import matplotlib.animation as animation\n",
    "\n",
    "img = [] # some array of images\n",
    "frames = [] # for storing the generated images\n",
    "fig = plt.figure()\n",
    "for i in range(len(frame)):\n",
    "    frames.append([plt.imshow(frame[i],animated=True)])\n",
    "\n",
    "ani = animation.ArtistAnimation(fig, frames, interval=25, blit=True)\n",
    "ani.save('movie.mp4')"
   ]
  },
  {
   "cell_type": "code",
   "execution_count": 208,
   "id": "de84a61d",
   "metadata": {},
   "outputs": [
    {
     "data": {
      "text/plain": [
       "<matplotlib.colorbar.Colorbar at 0x7fc926ce7e10>"
      ]
     },
     "execution_count": 208,
     "metadata": {},
     "output_type": "execute_result"
    },
    {
     "data": {
      "image/png": "[encoded data removed]",
      "text/plain": [
       "<Figure size 432x288 with 2 Axes>"
      ]
     },
     "metadata": {
      "needs_background": "light"
     },
     "output_type": "display_data"
    }
   ],
   "source": [
    "plt.imshow(frame_array[1])\n",
    "plt.colorbar()"
   ]
  },
  {
   "cell_type": "code",
   "execution_count": 142,
   "id": "ed1b62f2",
   "metadata": {},
   "outputs": [
    {
     "data": {
      "text/plain": [
       "array([[0.43746868, 0.43750369, 0.43753373, ..., 0.43747129, 0.43744556,\n",
       "        0.43746314],\n",
       "       [0.43743732, 0.43747406, 0.43750883, ..., 0.4374371 , 0.43741118,\n",
       "        0.43742904],\n",
       "       [0.43738231, 0.43742154, 0.43746129, ..., 0.43738156, 0.43735396,\n",
       "        0.43737201],\n",
       "       ...,\n",
       "       [0.43753707, 0.43756165, 0.43756731, ..., 0.43755486, 0.43752945,\n",
       "        0.43754645],\n",
       "       [0.43751896, 0.43754695, 0.43756109, ..., 0.43753348, 0.43750711,\n",
       "        0.43752351],\n",
       "       [0.43750954, 0.43754081, 0.43756253, ..., 0.43751668, 0.43749147,\n",
       "        0.43750878]])"
      ]
     },
     "execution_count": 142,
     "metadata": {},
     "output_type": "execute_result"
    }
   ],
   "source": [
    "F[:,:,0]"
   ]
  },
  {
   "cell_type": "code",
   "execution_count": null,
   "id": "62e7e77a",
   "metadata": {},
   "outputs": [],
   "source": []
  }
 ],
 "metadata": {
  "kernelspec": {
   "display_name": "Python 3",
   "language": "python",
   "name": "python3"
  },
  "language_info": {
   "codemirror_mode": {
    "name": "ipython",
    "version": 3
   },
   "file_extension": ".py",
   "mimetype": "text/x-python",
   "name": "python",
   "nbconvert_exporter": "python",
   "pygments_lexer": "ipython3",
   "version": "3.6.13"
  }
 },
 "nbformat": 4,
 "nbformat_minor": 5
}
