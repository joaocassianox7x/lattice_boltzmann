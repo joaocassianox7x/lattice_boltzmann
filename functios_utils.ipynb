{
 "cells": [
  {
   "cell_type": "code",
   "execution_count": 17,
   "id": "e80beffd",
   "metadata": {},
   "outputs": [],
   "source": [
    "z = {'a':'aa','b':'bbb','c':''}\n",
    "\n",
    "import time"
   ]
  },
  {
   "cell_type": "code",
   "execution_count": 19,
   "id": "3e42fd39",
   "metadata": {},
   "outputs": [],
   "source": [
    "def define_fill(dictionary):\n",
    "    full_size = len(dictionary.keys())\n",
    "    fill_fields = sum([1*(len(z[key])>0) for key in dictionary.keys()])\n",
    "    percentage_filled = round(fill_fields/full_size,2)\n",
    "    return(percentage_filled)\n"
   ]
  },
  {
   "cell_type": "code",
   "execution_count": 20,
   "id": "069a7142",
   "metadata": {},
   "outputs": [
    {
     "data": {
      "text/plain": [
       "0.67"
      ]
     },
     "execution_count": 20,
     "metadata": {},
     "output_type": "execute_result"
    }
   ],
   "source": [
    "define_fill(z)"
   ]
  },
  {
   "cell_type": "code",
   "execution_count": 32,
   "id": "1fa7103f",
   "metadata": {},
   "outputs": [],
   "source": [
    "for i in range(133):\n",
    "    z[i] = str(i)*(i%2)"
   ]
  },
  {
   "cell_type": "code",
   "execution_count": 33,
   "id": "299f2f52",
   "metadata": {},
   "outputs": [
    {
     "data": {
      "text/plain": [
       "0.5"
      ]
     },
     "execution_count": 33,
     "metadata": {},
     "output_type": "execute_result"
    }
   ],
   "source": [
    "define_fill(z)"
   ]
  },
  {
   "cell_type": "code",
   "execution_count": 35,
   "id": "e652fa56",
   "metadata": {},
   "outputs": [
    {
     "ename": "TypeError",
     "evalue": "object of type 'NoneType' has no len()",
     "output_type": "error",
     "traceback": [
      "\u001b[0;31m---------------------------------------------------------------------------\u001b[0m",
      "\u001b[0;31mTypeError\u001b[0m                                 Traceback (most recent call last)",
      "\u001b[0;32m<ipython-input-35-96b07938784c>\u001b[0m in \u001b[0;36m<module>\u001b[0;34m\u001b[0m\n\u001b[0;32m----> 1\u001b[0;31m \u001b[0mlen\u001b[0m\u001b[0;34m(\u001b[0m\u001b[0;32mNone\u001b[0m\u001b[0;34m)\u001b[0m\u001b[0;34m\u001b[0m\u001b[0;34m\u001b[0m\u001b[0m\n\u001b[0m",
      "\u001b[0;31mTypeError\u001b[0m: object of type 'NoneType' has no len()"
     ]
    }
   ],
   "source": [
    "len(None)"
   ]
  },
  {
   "cell_type": "code",
   "execution_count": 38,
   "id": "466f9118",
   "metadata": {},
   "outputs": [],
   "source": [
    "for k, v in my_dict.items():\n",
    "    if v is None:\n",
    "        my_dict[k] = \"my default value\"\n"
   ]
  },
  {
   "cell_type": "code",
   "execution_count": 37,
   "id": "3630d586",
   "metadata": {},
   "outputs": [],
   "source": [
    "my_dict = {'a':None}"
   ]
  },
  {
   "cell_type": "code",
   "execution_count": 39,
   "id": "039b7067",
   "metadata": {},
   "outputs": [
    {
     "data": {
      "text/plain": [
       "{'a': 'my default value'}"
      ]
     },
     "execution_count": 39,
     "metadata": {},
     "output_type": "execute_result"
    }
   ],
   "source": [
    "my_dict"
   ]
  },
  {
   "cell_type": "code",
   "execution_count": null,
   "id": "70867c48",
   "metadata": {},
   "outputs": [],
   "source": []
  },
  {
   "cell_type": "code",
   "execution_count": null,
   "id": "675b1200",
   "metadata": {},
   "outputs": [],
   "source": []
  },
  {
   "cell_type": "code",
   "execution_count": null,
   "id": "20905738",
   "metadata": {},
   "outputs": [],
   "source": []
  },
  {
   "cell_type": "code",
   "execution_count": null,
   "id": "599e5460",
   "metadata": {},
   "outputs": [],
   "source": []
  },
  {
   "cell_type": "code",
   "execution_count": null,
   "id": "42bec2d7",
   "metadata": {},
   "outputs": [],
   "source": []
  },
  {
   "cell_type": "code",
   "execution_count": null,
   "id": "d56a79fa",
   "metadata": {},
   "outputs": [],
   "source": []
  },
  {
   "cell_type": "code",
   "execution_count": null,
   "id": "c6ad5827",
   "metadata": {},
   "outputs": [],
   "source": []
  },
  {
   "cell_type": "code",
   "execution_count": null,
   "id": "e9eacde8",
   "metadata": {},
   "outputs": [],
   "source": []
  },
  {
   "cell_type": "code",
   "execution_count": null,
   "id": "cd4a1502",
   "metadata": {},
   "outputs": [],
   "source": []
  },
  {
   "cell_type": "code",
   "execution_count": null,
   "id": "6675e37b",
   "metadata": {},
   "outputs": [],
   "source": []
  },
  {
   "cell_type": "code",
   "execution_count": null,
   "id": "9bebaead",
   "metadata": {},
   "outputs": [],
   "source": []
  },
  {
   "cell_type": "code",
   "execution_count": null,
   "id": "cfb92d4c",
   "metadata": {},
   "outputs": [],
   "source": []
  },
  {
   "cell_type": "code",
   "execution_count": null,
   "id": "0d1d099c",
   "metadata": {},
   "outputs": [],
   "source": []
  },
  {
   "cell_type": "code",
   "execution_count": 111,
   "id": "5f4b660b",
   "metadata": {},
   "outputs": [],
   "source": [
    "import numpy as np\n",
    "import matplotlib.pyplot as plt\n",
    "\n"
   ]
  },
  {
   "cell_type": "code",
   "execution_count": 112,
   "id": "1124f74e",
   "metadata": {},
   "outputs": [],
   "source": [
    "nsite = 2\n",
    "ordem = nsite*2\n",
    "ngridy = 2**5\n",
    "t = 1\n",
    "SO = 0.1/(3*np.sqrt(3))\n",
    "E = 0.1\n",
    "\n"
   ]
  },
  {
   "cell_type": "code",
   "execution_count": 113,
   "id": "fe527301",
   "metadata": {},
   "outputs": [],
   "source": [
    "l1 = [-1,0,-1]\n",
    "l2 = [0,1,0]\n",
    "m1 = np.diag(l1, k=-1)\n",
    "m2 = np.diag(l2, k=-1)"
   ]
  },
  {
   "cell_type": "code",
   "execution_count": 114,
   "id": "4088cd42",
   "metadata": {},
   "outputs": [],
   "source": [
    "M1 = np.diag([-1,1,-1,1], k=0)\n",
    "M2 = np.diag([1,-1], k=2)\n",
    "M5 = np.diag([1,-1,1,-1])*E"
   ]
  },
  {
   "cell_type": "code",
   "execution_count": 115,
   "id": "6ce82684",
   "metadata": {},
   "outputs": [
    {
     "name": "stdout",
     "output_type": "stream",
     "text": [
      "[[ 0  0 -1  0]\n",
      " [ 0  0  0  1]\n",
      " [ 1  0  0  0]\n",
      " [ 0 -1  0  0]]\n"
     ]
    }
   ],
   "source": [
    "M1a = np.diag([1,-1,1,-1], k=0)\n",
    "M2a = np.diag([-1,1], k=2)\n",
    "M2a = M2a - M2a.T\n",
    "print(M2a)"
   ]
  },
  {
   "cell_type": "code",
   "execution_count": 116,
   "id": "93cbb47c",
   "metadata": {},
   "outputs": [],
   "source": [
    "m1=m1+m1.T\n",
    "m2=m2+m2.T\n",
    "M2=M2+M2.T"
   ]
  },
  {
   "cell_type": "code",
   "execution_count": 117,
   "id": "5a0c00c9",
   "metadata": {},
   "outputs": [
    {
     "data": {
      "text/plain": [
       "array([[ 0,  0,  1,  0],\n",
       "       [ 0,  0,  0, -1],\n",
       "       [ 1,  0,  0,  0],\n",
       "       [ 0, -1,  0,  0]])"
      ]
     },
     "execution_count": 117,
     "metadata": {},
     "output_type": "execute_result"
    }
   ],
   "source": [
    "M2"
   ]
  },
  {
   "cell_type": "code",
   "execution_count": 118,
   "id": "9db95838",
   "metadata": {},
   "outputs": [
    {
     "data": {
      "text/plain": [
       "<function matplotlib.pyplot.show(close=None, block=None)>"
      ]
     },
     "execution_count": 118,
     "metadata": {},
     "output_type": "execute_result"
    },
    {
     "data": {
      "image/png": "[encoded data removed]",
      "text/plain": [
       "<Figure size 432x288 with 1 Axes>"
      ]
     },
     "metadata": {
      "needs_background": "light"
     },
     "output_type": "display_data"
    }
   ],
   "source": [
    "k = np.linspace(-np.pi*0, 2*np.pi, ngridy)\n",
    "Hamil = np.zeros((ordem, ordem, len(k)), dtype = float)\n",
    "\n",
    "#Começamos a popular a matriz Hamiltoniana. (Primeiros vizinhos)\n",
    "\n",
    "for i in range(len(k)):\n",
    "    Hamil[:,:,i] = m1*(2*np.cos(k[i]/2))\n",
    "    Hamil[:,:,i] += m2*(-t)\n",
    "    Hamil[:,:,i] += M5\n",
    "#Segundos vizinhos\n",
    "\n",
    "for i in range(len(k)):\n",
    "    Hamil[:,:,i] += SO*M1*2*(np.sin(k[i]))\n",
    "    Hamil[:,:,i] += SO*M2*2*(np.sin(k[i]/2))\n",
    "    \n",
    "#Agora criando bloco diagonal:\n",
    "Hamil_B = np.zeros([2*ordem, 2*ordem, len(k)], dtype = float)\n",
    "m0 = np.zeros([ordem, ordem])\n",
    "\n",
    "#Fazendo a iteração\n",
    "for i in range(len(k)):\n",
    "    Hamil_i = Hamil[:,:,i]\n",
    "    Hamil_i_c = np.conjugate(Hamil[:,:,i])\n",
    "    Hamil_bloco = np.block([[Hamil_i, m0],[m0,Hamil_i_c]])#matriz bloco\n",
    "    Hamil_B[:,:,i] = Hamil_bloco\n",
    "    \n",
    "#criando os autovalores\n",
    "\n",
    "auto_val = []\n",
    "\n",
    "for i in range(len(k)):\n",
    "     auto_val.append(np.linalg.eigvalsh(Hamil_B[:,:,i]))\n",
    "\n",
    "plt.plot(k,np.array(auto_val),\"k\")\n",
    "plt.show"
   ]
  },
  {
   "cell_type": "code",
   "execution_count": 119,
   "id": "b59e5fae",
   "metadata": {},
   "outputs": [
    {
     "data": {
      "text/plain": [
       "[<matplotlib.lines.Line2D at 0x7fae473ac588>,\n",
       " <matplotlib.lines.Line2D at 0x7fae47745e10>,\n",
       " <matplotlib.lines.Line2D at 0x7fae47745be0>,\n",
       " <matplotlib.lines.Line2D at 0x7fae47745d68>,\n",
       " <matplotlib.lines.Line2D at 0x7fae47745c88>,\n",
       " <matplotlib.lines.Line2D at 0x7fae4773c518>,\n",
       " <matplotlib.lines.Line2D at 0x7fae4773c128>,\n",
       " <matplotlib.lines.Line2D at 0x7fae4773ca58>]"
      ]
     },
     "execution_count": 119,
     "metadata": {},
     "output_type": "execute_result"
    },
    {
     "data": {
      "image/png": "[encoded data removed]",
      "text/plain": [
       "<Figure size 432x288 with 1 Axes>"
      ]
     },
     "metadata": {
      "needs_background": "light"
     },
     "output_type": "display_data"
    }
   ],
   "source": [
    "plt.plot(k,np.array(auto_val)[::-1],\"k\")\n",
    "plt.plot(k,np.array(auto_val),\"r\")\n"
   ]
  },
  {
   "cell_type": "code",
   "execution_count": null,
   "id": "c4ca345b",
   "metadata": {},
   "outputs": [],
   "source": []
  },
  {
   "cell_type": "code",
   "execution_count": null,
   "id": "f795b201",
   "metadata": {},
   "outputs": [],
   "source": []
  },
  {
   "cell_type": "code",
   "execution_count": 79,
   "id": "e21aa636",
   "metadata": {},
   "outputs": [
    {
     "data": {
      "text/plain": [
       "<function matplotlib.pyplot.show(close=None, block=None)>"
      ]
     },
     "execution_count": 79,
     "metadata": {},
     "output_type": "execute_result"
    },
    {
     "data": {
      "image/png": "[encoded data removed]",
      "text/plain": [
       "<Figure size 432x288 with 1 Axes>"
      ]
     },
     "metadata": {
      "needs_background": "light"
     },
     "output_type": "display_data"
    }
   ],
   "source": [
    "k = np.linspace(-np.pi*0, 2*np.pi, ngridy)\n",
    "Hamil = np.zeros((ordem, ordem, len(k)), dtype = float)\n",
    "\n",
    "#Começamos a popular a matriz Hamiltoniana. (Primeiros vizinhos)\n",
    "\n",
    "for i in range(len(k)):\n",
    "    Hamil[:,:,i] = m1*(2*np.cos(k[i]/2))\n",
    "    Hamil[:,:,i] += m2*(-t)\n",
    "    Hamil[:,:,i] += M5\n",
    "#Segundos vizinhos\n",
    "\n",
    "for i in range(len(k)):\n",
    "    Hamil[:,:,i] += SO*M1*2*(np.sin(k[i]))\n",
    "    Hamil[:,:,i] += SO*M2*2*(np.sin(k[i]/2))\n",
    "    \n",
    "#Agora criando bloco diagonal:\n",
    "Hamil_B = np.zeros([2*ordem, 2*ordem, len(k)], dtype = float)\n",
    "m0 = np.zeros([ordem, ordem])\n",
    "\n",
    "#Fazendo a iteração\n",
    "for i in range(len(k)):\n",
    "    Hamil_i = Hamil[:,:,i]\n",
    "    Hamil_i_c = np.conjugate(Hamil[:,:,i])\n",
    "    Hamil_bloco = np.block([[Hamil_i, m0],[m0,Hamil_i_c]])#matriz bloco\n",
    "    Hamil_B[:,:,i] = Hamil_bloco\n",
    "    \n",
    "#criando os autovalores\n",
    "\n",
    "auto_val = []\n",
    "\n",
    "for i in range(len(k)):\n",
    "     auto_val.append(np.linalg.eigvalsh(Hamil_B[:,:,i]))\n",
    "\n",
    "plt.plot(k,np.array(auto_val),\"k\")\n",
    "plt.show"
   ]
  },
  {
   "cell_type": "code",
   "execution_count": null,
   "id": "0b58c97d",
   "metadata": {},
   "outputs": [],
   "source": []
  }
 ],
 "metadata": {
  "kernelspec": {
   "display_name": "Python 3",
   "language": "python",
   "name": "python3"
  },
  "language_info": {
   "codemirror_mode": {
    "name": "ipython",
    "version": 3
   },
   "file_extension": ".py",
   "mimetype": "text/x-python",
   "name": "python",
   "nbconvert_exporter": "python",
   "pygments_lexer": "ipython3",
   "version": "3.6.13"
  }
 },
 "nbformat": 4,
 "nbformat_minor": 5
}
